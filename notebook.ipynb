{
 "cells": [
  {
   "cell_type": "markdown",
   "id": "9df6ba4d-18c6-46d3-9ecf-f150b2c67319",
   "metadata": {},
   "source": [
    "# Proyek Analisis Data: [Bike Sharing Dataset]\n",
    "- **Nama:** [Sinta Ezra Wati Gulo]\n",
    "- **Email:** [sintaezra04@gmail.com]\n",
    "- **ID Dicoding:** [sinta_ezra]"
   ]
  },
  {
   "cell_type": "markdown",
   "id": "a5a1ffbd-5aa0-4b34-b705-4eda2aedca07",
   "metadata": {},
   "source": [
    "## Menentukan Pertanyaan Bisnis"
   ]
  },
  {
   "cell_type": "markdown",
   "id": "0860a9e0-0a51-4740-bf02-9dc425bd0738",
   "metadata": {},
   "source": [
    "- Bagaimana tren penggunaan sepeda sepanjang tahun?\n",
    "- Kapan periode dengan rata-rata penyewaan tertinggi dan terendah?\n",
    "- Bagaimana pengaruh kondisi cuaca terhadap pola penyewaan sepeda?"
   ]
  },
  {
   "cell_type": "markdown",
   "id": "b2d81c59-3b6c-420a-96c8-63f99331f715",
   "metadata": {},
   "source": [
    "## Import Semua Packages/Library yang Digunakan"
   ]
  },
  {
   "cell_type": "code",
   "execution_count": 1,
   "id": "e5f74d67-e772-4ead-ac7c-6f867656e544",
   "metadata": {},
   "outputs": [],
   "source": [
    "import numpy as np\n",
    "import pandas as pd\n",
    "import matplotlib.pyplot as plt\n",
    "import seaborn as sns"
   ]
  },
  {
   "cell_type": "markdown",
   "id": "9ae54438-f60a-4b8b-949a-0fc2e0000c1c",
   "metadata": {},
   "source": [
    "## Data Wrangling"
   ]
  },
  {
   "cell_type": "markdown",
   "id": "c93b80bc-dd39-4d22-b536-2fa20ce87499",
   "metadata": {},
   "source": [
    "### Gathering Data"
   ]
  },
  {
   "cell_type": "code",
   "execution_count": 2,
   "id": "be8eb530-353f-417c-9a2b-60197e33ac39",
   "metadata": {},
   "outputs": [
    {
     "data": {
      "text/html": [
       "<div>\n",
       "<style scoped>\n",
       "    .dataframe tbody tr th:only-of-type {\n",
       "        vertical-align: middle;\n",
       "    }\n",
       "\n",
       "    .dataframe tbody tr th {\n",
       "        vertical-align: top;\n",
       "    }\n",
       "\n",
       "    .dataframe thead th {\n",
       "        text-align: right;\n",
       "    }\n",
       "</style>\n",
       "<table border=\"1\" class=\"dataframe\">\n",
       "  <thead>\n",
       "    <tr style=\"text-align: right;\">\n",
       "      <th></th>\n",
       "      <th>instant</th>\n",
       "      <th>dteday</th>\n",
       "      <th>season</th>\n",
       "      <th>yr</th>\n",
       "      <th>mnth</th>\n",
       "      <th>holiday</th>\n",
       "      <th>weekday</th>\n",
       "      <th>workingday</th>\n",
       "      <th>weathersit</th>\n",
       "      <th>temp</th>\n",
       "      <th>atemp</th>\n",
       "      <th>hum</th>\n",
       "      <th>windspeed</th>\n",
       "      <th>casual</th>\n",
       "      <th>registered</th>\n",
       "      <th>cnt</th>\n",
       "    </tr>\n",
       "  </thead>\n",
       "  <tbody>\n",
       "    <tr>\n",
       "      <th>0</th>\n",
       "      <td>1</td>\n",
       "      <td>2011-01-01</td>\n",
       "      <td>1</td>\n",
       "      <td>0</td>\n",
       "      <td>1</td>\n",
       "      <td>0</td>\n",
       "      <td>6</td>\n",
       "      <td>0</td>\n",
       "      <td>2</td>\n",
       "      <td>0.344167</td>\n",
       "      <td>0.363625</td>\n",
       "      <td>0.805833</td>\n",
       "      <td>0.160446</td>\n",
       "      <td>331</td>\n",
       "      <td>654</td>\n",
       "      <td>985</td>\n",
       "    </tr>\n",
       "    <tr>\n",
       "      <th>1</th>\n",
       "      <td>2</td>\n",
       "      <td>2011-01-02</td>\n",
       "      <td>1</td>\n",
       "      <td>0</td>\n",
       "      <td>1</td>\n",
       "      <td>0</td>\n",
       "      <td>0</td>\n",
       "      <td>0</td>\n",
       "      <td>2</td>\n",
       "      <td>0.363478</td>\n",
       "      <td>0.353739</td>\n",
       "      <td>0.696087</td>\n",
       "      <td>0.248539</td>\n",
       "      <td>131</td>\n",
       "      <td>670</td>\n",
       "      <td>801</td>\n",
       "    </tr>\n",
       "    <tr>\n",
       "      <th>2</th>\n",
       "      <td>3</td>\n",
       "      <td>2011-01-03</td>\n",
       "      <td>1</td>\n",
       "      <td>0</td>\n",
       "      <td>1</td>\n",
       "      <td>0</td>\n",
       "      <td>1</td>\n",
       "      <td>1</td>\n",
       "      <td>1</td>\n",
       "      <td>0.196364</td>\n",
       "      <td>0.189405</td>\n",
       "      <td>0.437273</td>\n",
       "      <td>0.248309</td>\n",
       "      <td>120</td>\n",
       "      <td>1229</td>\n",
       "      <td>1349</td>\n",
       "    </tr>\n",
       "    <tr>\n",
       "      <th>3</th>\n",
       "      <td>4</td>\n",
       "      <td>2011-01-04</td>\n",
       "      <td>1</td>\n",
       "      <td>0</td>\n",
       "      <td>1</td>\n",
       "      <td>0</td>\n",
       "      <td>2</td>\n",
       "      <td>1</td>\n",
       "      <td>1</td>\n",
       "      <td>0.200000</td>\n",
       "      <td>0.212122</td>\n",
       "      <td>0.590435</td>\n",
       "      <td>0.160296</td>\n",
       "      <td>108</td>\n",
       "      <td>1454</td>\n",
       "      <td>1562</td>\n",
       "    </tr>\n",
       "    <tr>\n",
       "      <th>4</th>\n",
       "      <td>5</td>\n",
       "      <td>2011-01-05</td>\n",
       "      <td>1</td>\n",
       "      <td>0</td>\n",
       "      <td>1</td>\n",
       "      <td>0</td>\n",
       "      <td>3</td>\n",
       "      <td>1</td>\n",
       "      <td>1</td>\n",
       "      <td>0.226957</td>\n",
       "      <td>0.229270</td>\n",
       "      <td>0.436957</td>\n",
       "      <td>0.186900</td>\n",
       "      <td>82</td>\n",
       "      <td>1518</td>\n",
       "      <td>1600</td>\n",
       "    </tr>\n",
       "  </tbody>\n",
       "</table>\n",
       "</div>"
      ],
      "text/plain": [
       "   instant      dteday  season  yr  mnth  holiday  weekday  workingday  \\\n",
       "0        1  2011-01-01       1   0     1        0        6           0   \n",
       "1        2  2011-01-02       1   0     1        0        0           0   \n",
       "2        3  2011-01-03       1   0     1        0        1           1   \n",
       "3        4  2011-01-04       1   0     1        0        2           1   \n",
       "4        5  2011-01-05       1   0     1        0        3           1   \n",
       "\n",
       "   weathersit      temp     atemp       hum  windspeed  casual  registered  \\\n",
       "0           2  0.344167  0.363625  0.805833   0.160446     331         654   \n",
       "1           2  0.363478  0.353739  0.696087   0.248539     131         670   \n",
       "2           1  0.196364  0.189405  0.437273   0.248309     120        1229   \n",
       "3           1  0.200000  0.212122  0.590435   0.160296     108        1454   \n",
       "4           1  0.226957  0.229270  0.436957   0.186900      82        1518   \n",
       "\n",
       "    cnt  \n",
       "0   985  \n",
       "1   801  \n",
       "2  1349  \n",
       "3  1562  \n",
       "4  1600  "
      ]
     },
     "execution_count": 2,
     "metadata": {},
     "output_type": "execute_result"
    }
   ],
   "source": [
    "# Menggunakan tren harian pada dataset day.csv untuk dianalisis berdasarkan kebutuhan pertanyaan bisnis.\n",
    "# Membaca file day.csv ke dalam DataFrame dan menampilkan 5 baris pertamanya\n",
    "day_df = pd.read_csv(\"data/day.csv\")\n",
    "day_df.head()"
   ]
  },
  {
   "cell_type": "markdown",
   "id": "d5b0350c-8ea0-4957-9169-5ac4eb3fd4cb",
   "metadata": {},
   "source": [
    "**Insight:**\n",
    "\n",
    "Dalam dataset day.csv memiliki kolom-kolom berikut:\n",
    "- instant: Indeks rekaman.\n",
    "- dteday: Tanggal.\n",
    "- season: Musim (1: Musim Semi, 2: Musim Panas, 3: Musim Gugur, 4: Musim Dingin).\n",
    "- yr: Tahun (0 = 2011, 1 = 2012).\n",
    "- mnth: Bulan (1 hingga 12).\n",
    "- holiday: Indikator apakah hari tersebut adalah hari libur atau bukan (diambil dari sumber http://dchr.dc.gov/page/holiday-schedule).\n",
    "- weekday: Hari dalam seminggu.\n",
    "- workingday: Jika hari tersebut bukan akhir pekan maupun hari libur, bernilai 1, jika tidak, bernilai 0.\n",
    "- weathersit (Kondisi cuaca):\n",
    "  <br>1: Cerah, sedikit berawan, atau sebagian berawan.\n",
    "  <br>2: Berkabut + berawan, berkabut + awan pecah, berkabut + sedikit berawan, berkabut.\n",
    "  <br>3: Salju ringan, hujan ringan + badai petir + awan tersebar, hujan ringan + awan tersebar.\n",
    "  <br>4: Hujan deras + butiran es + badai petir + kabut, salju + kabut.\n",
    "- temp: Suhu yang telah dinormalisasi dalam Celsius (dibagi dengan 41 sebagai nilai maksimum).\n",
    "- atemp: Suhu yang terasa (apparent temperature) yang telah dinormalisasi dalam Celsius (dibagi dengan 50 sebagai nilai maksimum).\n",
    "- hum: Kelembaban udara yang telah dinormalisasi (dibagi dengan 100 sebagai nilai maksimum).\n",
    "- windspeed: Kecepatan angin yang telah dinormalisasi (dibagi dengan 67 sebagai nilai maksimum).\n",
    "- casual: Jumlah penyewaan sepeda oleh pengguna tidak terdaftar.\n",
    "- registered: Jumlah penyewaan sepeda oleh pengguna terdaftar.\n",
    "- cnt: Jumlah total sepeda yang disewa, termasuk pengguna tidak terdaftar dan terdaftar.\n",
    "\n",
    "Jadi, ada 16 kolom pada day.csv."
   ]
  },
  {
   "cell_type": "markdown",
   "id": "e57ca9ab-c06d-4303-8e4c-ef922ce334a8",
   "metadata": {},
   "source": [
    "### Assessing Data"
   ]
  },
  {
   "cell_type": "code",
   "execution_count": 3,
   "id": "923ee767-c108-436c-b368-5c86464bf650",
   "metadata": {},
   "outputs": [
    {
     "name": "stdout",
     "output_type": "stream",
     "text": [
      "<class 'pandas.core.frame.DataFrame'>\n",
      "RangeIndex: 731 entries, 0 to 730\n",
      "Data columns (total 16 columns):\n",
      " #   Column      Non-Null Count  Dtype  \n",
      "---  ------      --------------  -----  \n",
      " 0   instant     731 non-null    int64  \n",
      " 1   dteday      731 non-null    object \n",
      " 2   season      731 non-null    int64  \n",
      " 3   yr          731 non-null    int64  \n",
      " 4   mnth        731 non-null    int64  \n",
      " 5   holiday     731 non-null    int64  \n",
      " 6   weekday     731 non-null    int64  \n",
      " 7   workingday  731 non-null    int64  \n",
      " 8   weathersit  731 non-null    int64  \n",
      " 9   temp        731 non-null    float64\n",
      " 10  atemp       731 non-null    float64\n",
      " 11  hum         731 non-null    float64\n",
      " 12  windspeed   731 non-null    float64\n",
      " 13  casual      731 non-null    int64  \n",
      " 14  registered  731 non-null    int64  \n",
      " 15  cnt         731 non-null    int64  \n",
      "dtypes: float64(4), int64(11), object(1)\n",
      "memory usage: 91.5+ KB\n"
     ]
    }
   ],
   "source": [
    "# Memberikan informasi tentang day_df\n",
    "day_df.info()"
   ]
  },
  {
   "cell_type": "code",
   "execution_count": 4,
   "id": "dc2d30c4-9dbb-485f-af30-aae5c189fd73",
   "metadata": {},
   "outputs": [
    {
     "data": {
      "text/plain": [
       "instant       0\n",
       "dteday        0\n",
       "season        0\n",
       "yr            0\n",
       "mnth          0\n",
       "holiday       0\n",
       "weekday       0\n",
       "workingday    0\n",
       "weathersit    0\n",
       "temp          0\n",
       "atemp         0\n",
       "hum           0\n",
       "windspeed     0\n",
       "casual        0\n",
       "registered    0\n",
       "cnt           0\n",
       "dtype: int64"
      ]
     },
     "execution_count": 4,
     "metadata": {},
     "output_type": "execute_result"
    }
   ],
   "source": [
    "# Memeriksa apakah ada missing value\n",
    "day_df.isna().sum()"
   ]
  },
  {
   "cell_type": "code",
   "execution_count": 5,
   "id": "5ba9b6c5-53c9-4c6a-9789-1f06431621eb",
   "metadata": {},
   "outputs": [
    {
     "name": "stdout",
     "output_type": "stream",
     "text": [
      "Jumlah duplikasi =  0\n"
     ]
    }
   ],
   "source": [
    "# Memeriksa apakah ada data duplikat\n",
    "print(\"Jumlah duplikasi = \", day_df.duplicated().sum())"
   ]
  },
  {
   "cell_type": "code",
   "execution_count": 6,
   "id": "1897d65a-5f0a-4c6c-9f77-416db5dce68e",
   "metadata": {},
   "outputs": [
    {
     "name": "stdout",
     "output_type": "stream",
     "text": [
      "instant         int64\n",
      "dteday         object\n",
      "season          int64\n",
      "yr              int64\n",
      "mnth            int64\n",
      "holiday         int64\n",
      "weekday         int64\n",
      "workingday      int64\n",
      "weathersit      int64\n",
      "temp          float64\n",
      "atemp         float64\n",
      "hum           float64\n",
      "windspeed     float64\n",
      "casual          int64\n",
      "registered      int64\n",
      "cnt             int64\n",
      "dtype: object\n"
     ]
    }
   ],
   "source": [
    "# Memeriksa apakah tipe data sudah sesuai\n",
    "print(day_df.dtypes)"
   ]
  },
  {
   "cell_type": "code",
   "execution_count": 7,
   "id": "80e72ea0-8821-484e-9a3e-0a09a4de3ac9",
   "metadata": {},
   "outputs": [
    {
     "name": "stdout",
     "output_type": "stream",
     "text": [
      "Q1: 3152.0, Q3: 5956.0, IQR: 2804.0\n",
      "Lower Bound: -1054.0, Upper Bound: 10162.0\n",
      "Outliers: []\n"
     ]
    }
   ],
   "source": [
    "# Memeriksa apakah ada outlier\n",
    "# Ambil data cnt karena kolom ini adalah total sepeda yang dijual, yang mana menjadi fokus analisis saat ini\n",
    "data = day_df['cnt']\n",
    "\n",
    "# Hitung Q1, Q3\n",
    "q25, q75 = np.percentile(data, 25), np.percentile(data, 75)\n",
    "\n",
    "# Hitung IQR dan batas outlier\n",
    "iqr = q75 - q25\n",
    "cut_off = iqr * 1.5\n",
    "minimum, maximum = q25 - cut_off, q75 + cut_off\n",
    "\n",
    "# Identifikasi outlier\n",
    "outliers = [x for x in data if x < minimum or x > maximum]\n",
    "\n",
    "print(f\"Q1: {q25}, Q3: {q75}, IQR: {iqr}\")\n",
    "print(f\"Lower Bound: {minimum}, Upper Bound: {maximum}\")\n",
    "print(\"Outliers:\", outliers)"
   ]
  },
  {
   "cell_type": "code",
   "execution_count": 8,
   "id": "0bdca2d3-0e89-4566-9d0c-feb1b04a733c",
   "metadata": {},
   "outputs": [
    {
     "data": {
      "text/html": [
       "<div>\n",
       "<style scoped>\n",
       "    .dataframe tbody tr th:only-of-type {\n",
       "        vertical-align: middle;\n",
       "    }\n",
       "\n",
       "    .dataframe tbody tr th {\n",
       "        vertical-align: top;\n",
       "    }\n",
       "\n",
       "    .dataframe thead th {\n",
       "        text-align: right;\n",
       "    }\n",
       "</style>\n",
       "<table border=\"1\" class=\"dataframe\">\n",
       "  <thead>\n",
       "    <tr style=\"text-align: right;\">\n",
       "      <th></th>\n",
       "      <th>instant</th>\n",
       "      <th>season</th>\n",
       "      <th>yr</th>\n",
       "      <th>mnth</th>\n",
       "      <th>holiday</th>\n",
       "      <th>weekday</th>\n",
       "      <th>workingday</th>\n",
       "      <th>weathersit</th>\n",
       "      <th>temp</th>\n",
       "      <th>atemp</th>\n",
       "      <th>hum</th>\n",
       "      <th>windspeed</th>\n",
       "      <th>casual</th>\n",
       "      <th>registered</th>\n",
       "      <th>cnt</th>\n",
       "    </tr>\n",
       "  </thead>\n",
       "  <tbody>\n",
       "    <tr>\n",
       "      <th>count</th>\n",
       "      <td>731.000000</td>\n",
       "      <td>731.000000</td>\n",
       "      <td>731.000000</td>\n",
       "      <td>731.000000</td>\n",
       "      <td>731.000000</td>\n",
       "      <td>731.000000</td>\n",
       "      <td>731.000000</td>\n",
       "      <td>731.000000</td>\n",
       "      <td>731.000000</td>\n",
       "      <td>731.000000</td>\n",
       "      <td>731.000000</td>\n",
       "      <td>731.000000</td>\n",
       "      <td>731.000000</td>\n",
       "      <td>731.000000</td>\n",
       "      <td>731.000000</td>\n",
       "    </tr>\n",
       "    <tr>\n",
       "      <th>mean</th>\n",
       "      <td>366.000000</td>\n",
       "      <td>2.496580</td>\n",
       "      <td>0.500684</td>\n",
       "      <td>6.519836</td>\n",
       "      <td>0.028728</td>\n",
       "      <td>2.997264</td>\n",
       "      <td>0.683995</td>\n",
       "      <td>1.395349</td>\n",
       "      <td>0.495385</td>\n",
       "      <td>0.474354</td>\n",
       "      <td>0.627894</td>\n",
       "      <td>0.190486</td>\n",
       "      <td>848.176471</td>\n",
       "      <td>3656.172367</td>\n",
       "      <td>4504.348837</td>\n",
       "    </tr>\n",
       "    <tr>\n",
       "      <th>std</th>\n",
       "      <td>211.165812</td>\n",
       "      <td>1.110807</td>\n",
       "      <td>0.500342</td>\n",
       "      <td>3.451913</td>\n",
       "      <td>0.167155</td>\n",
       "      <td>2.004787</td>\n",
       "      <td>0.465233</td>\n",
       "      <td>0.544894</td>\n",
       "      <td>0.183051</td>\n",
       "      <td>0.162961</td>\n",
       "      <td>0.142429</td>\n",
       "      <td>0.077498</td>\n",
       "      <td>686.622488</td>\n",
       "      <td>1560.256377</td>\n",
       "      <td>1937.211452</td>\n",
       "    </tr>\n",
       "    <tr>\n",
       "      <th>min</th>\n",
       "      <td>1.000000</td>\n",
       "      <td>1.000000</td>\n",
       "      <td>0.000000</td>\n",
       "      <td>1.000000</td>\n",
       "      <td>0.000000</td>\n",
       "      <td>0.000000</td>\n",
       "      <td>0.000000</td>\n",
       "      <td>1.000000</td>\n",
       "      <td>0.059130</td>\n",
       "      <td>0.079070</td>\n",
       "      <td>0.000000</td>\n",
       "      <td>0.022392</td>\n",
       "      <td>2.000000</td>\n",
       "      <td>20.000000</td>\n",
       "      <td>22.000000</td>\n",
       "    </tr>\n",
       "    <tr>\n",
       "      <th>25%</th>\n",
       "      <td>183.500000</td>\n",
       "      <td>2.000000</td>\n",
       "      <td>0.000000</td>\n",
       "      <td>4.000000</td>\n",
       "      <td>0.000000</td>\n",
       "      <td>1.000000</td>\n",
       "      <td>0.000000</td>\n",
       "      <td>1.000000</td>\n",
       "      <td>0.337083</td>\n",
       "      <td>0.337842</td>\n",
       "      <td>0.520000</td>\n",
       "      <td>0.134950</td>\n",
       "      <td>315.500000</td>\n",
       "      <td>2497.000000</td>\n",
       "      <td>3152.000000</td>\n",
       "    </tr>\n",
       "    <tr>\n",
       "      <th>50%</th>\n",
       "      <td>366.000000</td>\n",
       "      <td>3.000000</td>\n",
       "      <td>1.000000</td>\n",
       "      <td>7.000000</td>\n",
       "      <td>0.000000</td>\n",
       "      <td>3.000000</td>\n",
       "      <td>1.000000</td>\n",
       "      <td>1.000000</td>\n",
       "      <td>0.498333</td>\n",
       "      <td>0.486733</td>\n",
       "      <td>0.626667</td>\n",
       "      <td>0.180975</td>\n",
       "      <td>713.000000</td>\n",
       "      <td>3662.000000</td>\n",
       "      <td>4548.000000</td>\n",
       "    </tr>\n",
       "    <tr>\n",
       "      <th>75%</th>\n",
       "      <td>548.500000</td>\n",
       "      <td>3.000000</td>\n",
       "      <td>1.000000</td>\n",
       "      <td>10.000000</td>\n",
       "      <td>0.000000</td>\n",
       "      <td>5.000000</td>\n",
       "      <td>1.000000</td>\n",
       "      <td>2.000000</td>\n",
       "      <td>0.655417</td>\n",
       "      <td>0.608602</td>\n",
       "      <td>0.730209</td>\n",
       "      <td>0.233214</td>\n",
       "      <td>1096.000000</td>\n",
       "      <td>4776.500000</td>\n",
       "      <td>5956.000000</td>\n",
       "    </tr>\n",
       "    <tr>\n",
       "      <th>max</th>\n",
       "      <td>731.000000</td>\n",
       "      <td>4.000000</td>\n",
       "      <td>1.000000</td>\n",
       "      <td>12.000000</td>\n",
       "      <td>1.000000</td>\n",
       "      <td>6.000000</td>\n",
       "      <td>1.000000</td>\n",
       "      <td>3.000000</td>\n",
       "      <td>0.861667</td>\n",
       "      <td>0.840896</td>\n",
       "      <td>0.972500</td>\n",
       "      <td>0.507463</td>\n",
       "      <td>3410.000000</td>\n",
       "      <td>6946.000000</td>\n",
       "      <td>8714.000000</td>\n",
       "    </tr>\n",
       "  </tbody>\n",
       "</table>\n",
       "</div>"
      ],
      "text/plain": [
       "          instant      season          yr        mnth     holiday     weekday  \\\n",
       "count  731.000000  731.000000  731.000000  731.000000  731.000000  731.000000   \n",
       "mean   366.000000    2.496580    0.500684    6.519836    0.028728    2.997264   \n",
       "std    211.165812    1.110807    0.500342    3.451913    0.167155    2.004787   \n",
       "min      1.000000    1.000000    0.000000    1.000000    0.000000    0.000000   \n",
       "25%    183.500000    2.000000    0.000000    4.000000    0.000000    1.000000   \n",
       "50%    366.000000    3.000000    1.000000    7.000000    0.000000    3.000000   \n",
       "75%    548.500000    3.000000    1.000000   10.000000    0.000000    5.000000   \n",
       "max    731.000000    4.000000    1.000000   12.000000    1.000000    6.000000   \n",
       "\n",
       "       workingday  weathersit        temp       atemp         hum   windspeed  \\\n",
       "count  731.000000  731.000000  731.000000  731.000000  731.000000  731.000000   \n",
       "mean     0.683995    1.395349    0.495385    0.474354    0.627894    0.190486   \n",
       "std      0.465233    0.544894    0.183051    0.162961    0.142429    0.077498   \n",
       "min      0.000000    1.000000    0.059130    0.079070    0.000000    0.022392   \n",
       "25%      0.000000    1.000000    0.337083    0.337842    0.520000    0.134950   \n",
       "50%      1.000000    1.000000    0.498333    0.486733    0.626667    0.180975   \n",
       "75%      1.000000    2.000000    0.655417    0.608602    0.730209    0.233214   \n",
       "max      1.000000    3.000000    0.861667    0.840896    0.972500    0.507463   \n",
       "\n",
       "            casual   registered          cnt  \n",
       "count   731.000000   731.000000   731.000000  \n",
       "mean    848.176471  3656.172367  4504.348837  \n",
       "std     686.622488  1560.256377  1937.211452  \n",
       "min       2.000000    20.000000    22.000000  \n",
       "25%     315.500000  2497.000000  3152.000000  \n",
       "50%     713.000000  3662.000000  4548.000000  \n",
       "75%    1096.000000  4776.500000  5956.000000  \n",
       "max    3410.000000  6946.000000  8714.000000  "
      ]
     },
     "execution_count": 8,
     "metadata": {},
     "output_type": "execute_result"
    }
   ],
   "source": [
    "# Mencetak ringkasan statistik day_df\n",
    "day_df.describe()"
   ]
  },
  {
   "cell_type": "code",
   "execution_count": 9,
   "id": "50416286-ed9d-45df-ae18-9b88f1f16d46",
   "metadata": {},
   "outputs": [
    {
     "name": "stdout",
     "output_type": "stream",
     "text": [
      "    instant      dteday  season  yr  mnth  holiday  weekday  workingday  \\\n",
      "68       69  2011-03-10       1   0     3        0        4           1   \n",
      "\n",
      "    weathersit      temp     atemp  hum  windspeed  casual  registered  cnt  \n",
      "68           3  0.389091  0.385668  0.0   0.261877      46         577  623  \n"
     ]
    }
   ],
   "source": [
    "# Memeriksa data dengan nilai hum = 0\n",
    "print(day_df[day_df[\"hum\"] == 0])"
   ]
  },
  {
   "cell_type": "markdown",
   "id": "bd85261d-fda2-4373-a25f-d11311cf772d",
   "metadata": {},
   "source": [
    "**Insight:**\n",
    "- Kolom cnt menjadi fokus analisis.\n",
    "- Rata-rata penyewaan sepeda per hari adalah 4504 sepeda.\n",
    "- Penyewaan sepeda terendah dalam sehari adalah 22 sepeda.\n",
    "- Penyewaan sepeda tertinggi dalam sehari adalah 8714 sepeda.\n",
    "- Tidak ada missing value.\n",
    "- Tidak ada data duplikat.\n",
    "- Tipe data kolom dteday belum sesuai, akan lebih baik jika tipenya adalah datetime.\n",
    "- Tidak ada outlier.\n",
    "- Tidak ada invalid value, terlihat dari hasil ringkasan bahwa value setiap kolom masih ada dalam rentang yang sudah ditentukan.\n",
    "- Terdapat inaccurate value, yaitu pada bagian nilai minimal hum. Dimana secara normal hampir tidak mungkin kelembapan = 0, terutama pada kondisi cuaca dengan nilai 3 (salju ringan, hujan ringan + badai petir + awan tersebar, hujan ringan + awan tersebar).\n",
    "- Nilai hum = 0 terjadi pada 2011-03-10."
   ]
  },
  {
   "cell_type": "markdown",
   "id": "f53ceb02-3ad4-4953-ae0c-b1255e39d107",
   "metadata": {},
   "source": [
    "### Cleaning Data"
   ]
  },
  {
   "cell_type": "code",
   "execution_count": 11,
   "id": "35f65409-0f54-46dd-9d8f-8d2b76b976da",
   "metadata": {},
   "outputs": [],
   "source": [
    "# Cari median hum dari day_df untuk weathersit = 3\n",
    "median_hum_weathersit_3 = day_df[day_df['weathersit'] == 3]['hum'].median()\n",
    "\n",
    "# Update nilai hum di day_df jika hum = 0 dan weathersit = 3\n",
    "day_df.loc[(day_df['hum'] == 0) & (day_df['weathersit'] == 3), 'hum'] = median_hum_weathersit_3"
   ]
  },
  {
   "cell_type": "code",
   "execution_count": 12,
   "id": "98e1d285-1c8c-4727-88a9-62e3ce272d72",
   "metadata": {},
   "outputs": [
    {
     "name": "stdout",
     "output_type": "stream",
     "text": [
      "Empty DataFrame\n",
      "Columns: [instant, dteday, season, yr, mnth, holiday, weekday, workingday, weathersit, temp, atemp, hum, windspeed, casual, registered, cnt]\n",
      "Index: []\n"
     ]
    }
   ],
   "source": [
    "# Memeriksa apakah masih ada nilai hum = 0\n",
    "print(day_df[day_df['hum'] == 0])"
   ]
  },
  {
   "cell_type": "code",
   "execution_count": 13,
   "id": "162e209c-b10e-4d24-9614-3cc509ca533f",
   "metadata": {},
   "outputs": [
    {
     "data": {
      "text/html": [
       "<div>\n",
       "<style scoped>\n",
       "    .dataframe tbody tr th:only-of-type {\n",
       "        vertical-align: middle;\n",
       "    }\n",
       "\n",
       "    .dataframe tbody tr th {\n",
       "        vertical-align: top;\n",
       "    }\n",
       "\n",
       "    .dataframe thead th {\n",
       "        text-align: right;\n",
       "    }\n",
       "</style>\n",
       "<table border=\"1\" class=\"dataframe\">\n",
       "  <thead>\n",
       "    <tr style=\"text-align: right;\">\n",
       "      <th></th>\n",
       "      <th>dteday</th>\n",
       "      <th>hum</th>\n",
       "    </tr>\n",
       "  </thead>\n",
       "  <tbody>\n",
       "    <tr>\n",
       "      <th>68</th>\n",
       "      <td>2011-03-10</td>\n",
       "      <td>0.888333</td>\n",
       "    </tr>\n",
       "  </tbody>\n",
       "</table>\n",
       "</div>"
      ],
      "text/plain": [
       "        dteday       hum\n",
       "68  2011-03-10  0.888333"
      ]
     },
     "execution_count": 13,
     "metadata": {},
     "output_type": "execute_result"
    }
   ],
   "source": [
    "day_df[day_df['dteday'] == '2011-03-10'][['dteday', 'hum']]"
   ]
  },
  {
   "cell_type": "code",
   "execution_count": 14,
   "id": "a9c6c0b1-0672-4597-91eb-1c0eac1b5ef5",
   "metadata": {},
   "outputs": [
    {
     "name": "stdout",
     "output_type": "stream",
     "text": [
      "Tipe data tabel day_df: \n",
      " instant                int64\n",
      "dteday        datetime64[ns]\n",
      "season                 int64\n",
      "yr                     int64\n",
      "mnth                   int64\n",
      "holiday                int64\n",
      "weekday                int64\n",
      "workingday             int64\n",
      "weathersit             int64\n",
      "temp                 float64\n",
      "atemp                float64\n",
      "hum                  float64\n",
      "windspeed            float64\n",
      "casual                 int64\n",
      "registered             int64\n",
      "cnt                    int64\n",
      "dtype: object\n"
     ]
    }
   ],
   "source": [
    "# Mengubah tipe data dteday\n",
    "day_df['dteday'] = pd.to_datetime(day_df['dteday'])\n",
    "print(\"Tipe data tabel day_df:\", \"\\n\", day_df.dtypes)"
   ]
  },
  {
   "cell_type": "code",
   "execution_count": 15,
   "id": "cba7392c-5d20-4fe2-b176-4b6a7ab8f6ec",
   "metadata": {},
   "outputs": [],
   "source": [
    "# Menghapus kolom yang tidak perlu dalam analisis\n",
    "day_df.drop(columns=['instant', 'casual', 'registered'], inplace=True)"
   ]
  },
  {
   "cell_type": "code",
   "execution_count": 16,
   "id": "6dcd0ba5-42f2-4089-a4cd-9e6449473e10",
   "metadata": {},
   "outputs": [
    {
     "name": "stdout",
     "output_type": "stream",
     "text": [
      "<class 'pandas.core.frame.DataFrame'>\n",
      "RangeIndex: 731 entries, 0 to 730\n",
      "Data columns (total 13 columns):\n",
      " #   Column      Non-Null Count  Dtype         \n",
      "---  ------      --------------  -----         \n",
      " 0   dteday      731 non-null    datetime64[ns]\n",
      " 1   season      731 non-null    int64         \n",
      " 2   yr          731 non-null    int64         \n",
      " 3   mnth        731 non-null    int64         \n",
      " 4   holiday     731 non-null    int64         \n",
      " 5   weekday     731 non-null    int64         \n",
      " 6   workingday  731 non-null    int64         \n",
      " 7   weathersit  731 non-null    int64         \n",
      " 8   temp        731 non-null    float64       \n",
      " 9   atemp       731 non-null    float64       \n",
      " 10  hum         731 non-null    float64       \n",
      " 11  windspeed   731 non-null    float64       \n",
      " 12  cnt         731 non-null    int64         \n",
      "dtypes: datetime64[ns](1), float64(4), int64(8)\n",
      "memory usage: 74.4 KB\n"
     ]
    }
   ],
   "source": [
    "# Memeriksa kolom yang ada pada day_df\n",
    "day_df.info()"
   ]
  },
  {
   "cell_type": "markdown",
   "id": "ad680920-ccf2-441e-8e9c-aae779d3bf41",
   "metadata": {},
   "source": [
    "**Insight:**\n",
    "- Mengganti nilai hum = 0 menggunakan median hum pada weathersit yang bernilai sama yaitu weathersit dengan nilai 3.\n",
    "- Mengubah tipe data dteday menjadi datetime agar lebih sesuai.\n",
    "- Menghapus kolom instant, casual, dan registered, karena tidak mempengaruhi analisis untuk pertanyaan bisnis yang didefinisikan diawal. Sehingga dapat menyederhanakan analisis dan menghilangkan informasi yang tidak relevan."
   ]
  },
  {
   "cell_type": "markdown",
   "id": "be3011c3-fc62-47d8-b261-9335a7e13ebc",
   "metadata": {},
   "source": [
    "## Exploratory Data Analysis (EDA)"
   ]
  },
  {
   "cell_type": "markdown",
   "id": "f28d4e07-3803-4035-baeb-c83c8336f117",
   "metadata": {},
   "source": [
    "### Explore data day_df"
   ]
  },
  {
   "cell_type": "code",
   "execution_count": 17,
   "id": "f9fb4771-6e03-47b9-a02b-140ca7c40077",
   "metadata": {},
   "outputs": [
    {
     "data": {
      "text/html": [
       "<div>\n",
       "<style scoped>\n",
       "    .dataframe tbody tr th:only-of-type {\n",
       "        vertical-align: middle;\n",
       "    }\n",
       "\n",
       "    .dataframe tbody tr th {\n",
       "        vertical-align: top;\n",
       "    }\n",
       "\n",
       "    .dataframe thead th {\n",
       "        text-align: right;\n",
       "    }\n",
       "</style>\n",
       "<table border=\"1\" class=\"dataframe\">\n",
       "  <thead>\n",
       "    <tr style=\"text-align: right;\">\n",
       "      <th></th>\n",
       "      <th>dteday</th>\n",
       "      <th>season</th>\n",
       "      <th>yr</th>\n",
       "      <th>mnth</th>\n",
       "      <th>holiday</th>\n",
       "      <th>weekday</th>\n",
       "      <th>workingday</th>\n",
       "      <th>weathersit</th>\n",
       "      <th>temp</th>\n",
       "      <th>atemp</th>\n",
       "      <th>hum</th>\n",
       "      <th>windspeed</th>\n",
       "      <th>cnt</th>\n",
       "    </tr>\n",
       "  </thead>\n",
       "  <tbody>\n",
       "    <tr>\n",
       "      <th>count</th>\n",
       "      <td>731</td>\n",
       "      <td>731.000000</td>\n",
       "      <td>731.000000</td>\n",
       "      <td>731.000000</td>\n",
       "      <td>731.000000</td>\n",
       "      <td>731.000000</td>\n",
       "      <td>731.000000</td>\n",
       "      <td>731.000000</td>\n",
       "      <td>731.000000</td>\n",
       "      <td>731.000000</td>\n",
       "      <td>731.000000</td>\n",
       "      <td>731.000000</td>\n",
       "      <td>731.000000</td>\n",
       "    </tr>\n",
       "    <tr>\n",
       "      <th>mean</th>\n",
       "      <td>2012-01-01 00:00:00</td>\n",
       "      <td>2.496580</td>\n",
       "      <td>0.500684</td>\n",
       "      <td>6.519836</td>\n",
       "      <td>0.028728</td>\n",
       "      <td>2.997264</td>\n",
       "      <td>0.683995</td>\n",
       "      <td>1.395349</td>\n",
       "      <td>0.495385</td>\n",
       "      <td>0.474354</td>\n",
       "      <td>0.629109</td>\n",
       "      <td>0.190486</td>\n",
       "      <td>4504.348837</td>\n",
       "    </tr>\n",
       "    <tr>\n",
       "      <th>min</th>\n",
       "      <td>2011-01-01 00:00:00</td>\n",
       "      <td>1.000000</td>\n",
       "      <td>0.000000</td>\n",
       "      <td>1.000000</td>\n",
       "      <td>0.000000</td>\n",
       "      <td>0.000000</td>\n",
       "      <td>0.000000</td>\n",
       "      <td>1.000000</td>\n",
       "      <td>0.059130</td>\n",
       "      <td>0.079070</td>\n",
       "      <td>0.187917</td>\n",
       "      <td>0.022392</td>\n",
       "      <td>22.000000</td>\n",
       "    </tr>\n",
       "    <tr>\n",
       "      <th>25%</th>\n",
       "      <td>2011-07-02 12:00:00</td>\n",
       "      <td>2.000000</td>\n",
       "      <td>0.000000</td>\n",
       "      <td>4.000000</td>\n",
       "      <td>0.000000</td>\n",
       "      <td>1.000000</td>\n",
       "      <td>0.000000</td>\n",
       "      <td>1.000000</td>\n",
       "      <td>0.337083</td>\n",
       "      <td>0.337842</td>\n",
       "      <td>0.521041</td>\n",
       "      <td>0.134950</td>\n",
       "      <td>3152.000000</td>\n",
       "    </tr>\n",
       "    <tr>\n",
       "      <th>50%</th>\n",
       "      <td>2012-01-01 00:00:00</td>\n",
       "      <td>3.000000</td>\n",
       "      <td>1.000000</td>\n",
       "      <td>7.000000</td>\n",
       "      <td>0.000000</td>\n",
       "      <td>3.000000</td>\n",
       "      <td>1.000000</td>\n",
       "      <td>1.000000</td>\n",
       "      <td>0.498333</td>\n",
       "      <td>0.486733</td>\n",
       "      <td>0.627500</td>\n",
       "      <td>0.180975</td>\n",
       "      <td>4548.000000</td>\n",
       "    </tr>\n",
       "    <tr>\n",
       "      <th>75%</th>\n",
       "      <td>2012-07-01 12:00:00</td>\n",
       "      <td>3.000000</td>\n",
       "      <td>1.000000</td>\n",
       "      <td>10.000000</td>\n",
       "      <td>0.000000</td>\n",
       "      <td>5.000000</td>\n",
       "      <td>1.000000</td>\n",
       "      <td>2.000000</td>\n",
       "      <td>0.655417</td>\n",
       "      <td>0.608602</td>\n",
       "      <td>0.730833</td>\n",
       "      <td>0.233214</td>\n",
       "      <td>5956.000000</td>\n",
       "    </tr>\n",
       "    <tr>\n",
       "      <th>max</th>\n",
       "      <td>2012-12-31 00:00:00</td>\n",
       "      <td>4.000000</td>\n",
       "      <td>1.000000</td>\n",
       "      <td>12.000000</td>\n",
       "      <td>1.000000</td>\n",
       "      <td>6.000000</td>\n",
       "      <td>1.000000</td>\n",
       "      <td>3.000000</td>\n",
       "      <td>0.861667</td>\n",
       "      <td>0.840896</td>\n",
       "      <td>0.972500</td>\n",
       "      <td>0.507463</td>\n",
       "      <td>8714.000000</td>\n",
       "    </tr>\n",
       "    <tr>\n",
       "      <th>std</th>\n",
       "      <td>NaN</td>\n",
       "      <td>1.110807</td>\n",
       "      <td>0.500342</td>\n",
       "      <td>3.451913</td>\n",
       "      <td>0.167155</td>\n",
       "      <td>2.004787</td>\n",
       "      <td>0.465233</td>\n",
       "      <td>0.544894</td>\n",
       "      <td>0.183051</td>\n",
       "      <td>0.162961</td>\n",
       "      <td>0.140845</td>\n",
       "      <td>0.077498</td>\n",
       "      <td>1937.211452</td>\n",
       "    </tr>\n",
       "  </tbody>\n",
       "</table>\n",
       "</div>"
      ],
      "text/plain": [
       "                    dteday      season          yr        mnth     holiday  \\\n",
       "count                  731  731.000000  731.000000  731.000000  731.000000   \n",
       "mean   2012-01-01 00:00:00    2.496580    0.500684    6.519836    0.028728   \n",
       "min    2011-01-01 00:00:00    1.000000    0.000000    1.000000    0.000000   \n",
       "25%    2011-07-02 12:00:00    2.000000    0.000000    4.000000    0.000000   \n",
       "50%    2012-01-01 00:00:00    3.000000    1.000000    7.000000    0.000000   \n",
       "75%    2012-07-01 12:00:00    3.000000    1.000000   10.000000    0.000000   \n",
       "max    2012-12-31 00:00:00    4.000000    1.000000   12.000000    1.000000   \n",
       "std                    NaN    1.110807    0.500342    3.451913    0.167155   \n",
       "\n",
       "          weekday  workingday  weathersit        temp       atemp         hum  \\\n",
       "count  731.000000  731.000000  731.000000  731.000000  731.000000  731.000000   \n",
       "mean     2.997264    0.683995    1.395349    0.495385    0.474354    0.629109   \n",
       "min      0.000000    0.000000    1.000000    0.059130    0.079070    0.187917   \n",
       "25%      1.000000    0.000000    1.000000    0.337083    0.337842    0.521041   \n",
       "50%      3.000000    1.000000    1.000000    0.498333    0.486733    0.627500   \n",
       "75%      5.000000    1.000000    2.000000    0.655417    0.608602    0.730833   \n",
       "max      6.000000    1.000000    3.000000    0.861667    0.840896    0.972500   \n",
       "std      2.004787    0.465233    0.544894    0.183051    0.162961    0.140845   \n",
       "\n",
       "        windspeed          cnt  \n",
       "count  731.000000   731.000000  \n",
       "mean     0.190486  4504.348837  \n",
       "min      0.022392    22.000000  \n",
       "25%      0.134950  3152.000000  \n",
       "50%      0.180975  4548.000000  \n",
       "75%      0.233214  5956.000000  \n",
       "max      0.507463  8714.000000  \n",
       "std      0.077498  1937.211452  "
      ]
     },
     "execution_count": 17,
     "metadata": {},
     "output_type": "execute_result"
    }
   ],
   "source": [
    "day_df.describe(include=\"all\")"
   ]
  },
  {
   "cell_type": "code",
   "execution_count": 18,
   "id": "6d34a8ab-204e-4906-ac64-693ca382cc97",
   "metadata": {},
   "outputs": [
    {
     "name": "stdout",
     "output_type": "stream",
     "text": [
      "               cnt\n",
      "count   731.000000\n",
      "mean   4504.348837\n",
      "std    1937.211452\n",
      "min      22.000000\n",
      "25%    3152.000000\n",
      "50%    4548.000000\n",
      "75%    5956.000000\n",
      "max    8714.000000\n"
     ]
    }
   ],
   "source": [
    "# Ringkasan statistik untuk jumlah penyewaan sepeda\n",
    "print(day_df[['cnt']].describe())"
   ]
  },
  {
   "cell_type": "code",
   "execution_count": 19,
   "id": "eec4e22b-b679-4502-9767-059e39dade8d",
   "metadata": {},
   "outputs": [
    {
     "data": {
      "text/html": [
       "<div>\n",
       "<style scoped>\n",
       "    .dataframe tbody tr th:only-of-type {\n",
       "        vertical-align: middle;\n",
       "    }\n",
       "\n",
       "    .dataframe tbody tr th {\n",
       "        vertical-align: top;\n",
       "    }\n",
       "\n",
       "    .dataframe thead th {\n",
       "        text-align: right;\n",
       "    }\n",
       "</style>\n",
       "<table border=\"1\" class=\"dataframe\">\n",
       "  <thead>\n",
       "    <tr style=\"text-align: right;\">\n",
       "      <th></th>\n",
       "      <th>dteday</th>\n",
       "      <th>season</th>\n",
       "      <th>yr</th>\n",
       "      <th>mnth</th>\n",
       "      <th>holiday</th>\n",
       "      <th>weekday</th>\n",
       "      <th>workingday</th>\n",
       "      <th>weathersit</th>\n",
       "      <th>temp</th>\n",
       "      <th>atemp</th>\n",
       "      <th>hum</th>\n",
       "      <th>windspeed</th>\n",
       "      <th>cnt</th>\n",
       "    </tr>\n",
       "  </thead>\n",
       "  <tbody>\n",
       "    <tr>\n",
       "      <th>667</th>\n",
       "      <td>2012-10-29</td>\n",
       "      <td>4</td>\n",
       "      <td>1</td>\n",
       "      <td>10</td>\n",
       "      <td>0</td>\n",
       "      <td>1</td>\n",
       "      <td>1</td>\n",
       "      <td>3</td>\n",
       "      <td>0.44</td>\n",
       "      <td>0.4394</td>\n",
       "      <td>0.88</td>\n",
       "      <td>0.3582</td>\n",
       "      <td>22</td>\n",
       "    </tr>\n",
       "  </tbody>\n",
       "</table>\n",
       "</div>"
      ],
      "text/plain": [
       "        dteday  season  yr  mnth  holiday  weekday  workingday  weathersit  \\\n",
       "667 2012-10-29       4   1    10        0        1           1           3   \n",
       "\n",
       "     temp   atemp   hum  windspeed  cnt  \n",
       "667  0.44  0.4394  0.88     0.3582   22  "
      ]
     },
     "execution_count": 19,
     "metadata": {},
     "output_type": "execute_result"
    }
   ],
   "source": [
    "# Memeriksa data dengan penyewaan sepeda terendah\n",
    "day_df[day_df[\"cnt\"] == 22]"
   ]
  },
  {
   "cell_type": "code",
   "execution_count": 20,
   "id": "02c05f96-d5f0-4818-9793-041545b3526b",
   "metadata": {},
   "outputs": [
    {
     "data": {
      "text/html": [
       "<div>\n",
       "<style scoped>\n",
       "    .dataframe tbody tr th:only-of-type {\n",
       "        vertical-align: middle;\n",
       "    }\n",
       "\n",
       "    .dataframe tbody tr th {\n",
       "        vertical-align: top;\n",
       "    }\n",
       "\n",
       "    .dataframe thead th {\n",
       "        text-align: right;\n",
       "    }\n",
       "</style>\n",
       "<table border=\"1\" class=\"dataframe\">\n",
       "  <thead>\n",
       "    <tr style=\"text-align: right;\">\n",
       "      <th></th>\n",
       "      <th>dteday</th>\n",
       "      <th>season</th>\n",
       "      <th>yr</th>\n",
       "      <th>mnth</th>\n",
       "      <th>holiday</th>\n",
       "      <th>weekday</th>\n",
       "      <th>workingday</th>\n",
       "      <th>weathersit</th>\n",
       "      <th>temp</th>\n",
       "      <th>atemp</th>\n",
       "      <th>hum</th>\n",
       "      <th>windspeed</th>\n",
       "      <th>cnt</th>\n",
       "    </tr>\n",
       "  </thead>\n",
       "  <tbody>\n",
       "    <tr>\n",
       "      <th>623</th>\n",
       "      <td>2012-09-15</td>\n",
       "      <td>3</td>\n",
       "      <td>1</td>\n",
       "      <td>9</td>\n",
       "      <td>0</td>\n",
       "      <td>6</td>\n",
       "      <td>0</td>\n",
       "      <td>1</td>\n",
       "      <td>0.608333</td>\n",
       "      <td>0.585867</td>\n",
       "      <td>0.501667</td>\n",
       "      <td>0.247521</td>\n",
       "      <td>8714</td>\n",
       "    </tr>\n",
       "  </tbody>\n",
       "</table>\n",
       "</div>"
      ],
      "text/plain": [
       "        dteday  season  yr  mnth  holiday  weekday  workingday  weathersit  \\\n",
       "623 2012-09-15       3   1     9        0        6           0           1   \n",
       "\n",
       "         temp     atemp       hum  windspeed   cnt  \n",
       "623  0.608333  0.585867  0.501667   0.247521  8714  "
      ]
     },
     "execution_count": 20,
     "metadata": {},
     "output_type": "execute_result"
    }
   ],
   "source": [
    "# Memeriksa data dengan penyewaan sepeda tertinggi\n",
    "day_df[day_df[\"cnt\"] == 8714]"
   ]
  },
  {
   "cell_type": "code",
   "execution_count": 21,
   "id": "5c3ed810-2862-49f7-ac03-36d4a9c696ab",
   "metadata": {},
   "outputs": [
    {
     "name": "stdout",
     "output_type": "stream",
     "text": [
      "\n",
      "Rata-rata Penyewaan Sepeda Berdasarkan Hari dalam Seminggu:\n",
      "   Weekday  Average Rentals\n",
      "0        0      4228.828571\n",
      "1        1      4338.123810\n",
      "2        2      4510.663462\n",
      "3        3      4548.538462\n",
      "4        4      4667.259615\n",
      "5        5      4690.288462\n",
      "6        6      4550.542857\n"
     ]
    }
   ],
   "source": [
    "# Rata-rata penyewaan sepeda per hari dalam seminggu\n",
    "weekday_counts = day_df.groupby(\"weekday\")[\"cnt\"].mean().reset_index()\n",
    "weekday_counts.columns = [\"Weekday\", \"Average Rentals\"]\n",
    "print(\"\\nRata-rata Penyewaan Sepeda Berdasarkan Hari dalam Seminggu:\")\n",
    "print(weekday_counts)"
   ]
  },
  {
   "cell_type": "code",
   "execution_count": 22,
   "id": "821a3f79-054e-4c9d-9c2a-7db0a8c06db0",
   "metadata": {},
   "outputs": [
    {
     "name": "stdout",
     "output_type": "stream",
     "text": [
      "\n",
      "Rata-rata Penyewaan Sepeda Berdasarkan Bulan:\n",
      "    mnth  Average Rentals\n",
      "0      1      2176.338710\n",
      "1      2      2655.298246\n",
      "2      3      3692.258065\n",
      "3      4      4484.900000\n",
      "4      5      5349.774194\n",
      "5      6      5772.366667\n",
      "6      7      5563.677419\n",
      "7      8      5664.419355\n",
      "8      9      5766.516667\n",
      "9     10      5199.225806\n",
      "10    11      4247.183333\n",
      "11    12      3403.806452\n"
     ]
    }
   ],
   "source": [
    "# Rata-rata penyewaan berdasarkan bulan\n",
    "month_counts = day_df.groupby(\"mnth\")[\"cnt\"].mean().reset_index()\n",
    "month_counts.columns = [\"mnth\", \"Average Rentals\"]\n",
    "print(\"\\nRata-rata Penyewaan Sepeda Berdasarkan Bulan:\")\n",
    "print(month_counts)"
   ]
  },
  {
   "cell_type": "code",
   "execution_count": 23,
   "id": "bb3a96e3-add2-453d-ac44-ae8ad4b984ef",
   "metadata": {},
   "outputs": [
    {
     "name": "stdout",
     "output_type": "stream",
     "text": [
      "\n",
      "Rata-rata Penyewaan Sepeda Berdasarkan Musim:\n",
      "   Season  Average Rentals\n",
      "0       1      2604.132597\n",
      "1       2      4992.331522\n",
      "2       3      5644.303191\n",
      "3       4      4728.162921\n"
     ]
    }
   ],
   "source": [
    "# Rata-rata penyewaan sepeda berdasarkan musim:\n",
    "season_counts = day_df.groupby(\"season\")[\"cnt\"].mean().reset_index()\n",
    "season_counts.columns = [\"Season\", \"Average Rentals\"]\n",
    "print(\"\\nRata-rata Penyewaan Sepeda Berdasarkan Musim:\")\n",
    "print(season_counts)"
   ]
  },
  {
   "cell_type": "code",
   "execution_count": 24,
   "id": "f4e975f5-9773-46c6-a859-c725296e19d6",
   "metadata": {},
   "outputs": [
    {
     "name": "stdout",
     "output_type": "stream",
     "text": [
      "   Weather Condition  Average Rentals\n",
      "0                  1      4876.786177\n",
      "1                  2      4035.862348\n",
      "2                  3      1803.285714\n"
     ]
    }
   ],
   "source": [
    "# Rata-rata penyewaan pada kondisi cuaca tertentu\n",
    "weather_rentals = day_df.groupby(\"weathersit\")[\"cnt\"].mean().reset_index()\n",
    "weather_rentals.columns = [\"Weather Condition\", \"Average Rentals\"]\n",
    "print(weather_rentals)"
   ]
  },
  {
   "cell_type": "markdown",
   "id": "a5cfb2e8-860c-4c33-bed7-f602d6de0b08",
   "metadata": {},
   "source": [
    "**Insight:**\n",
    "- Dari hasil di atas, kita dapat melihat gambaran awal bahwa:\n",
    "<br>- Rata-rata penyewaan per hari adalah 4504 sepeda.\n",
    "<br>- Minimal penyewaan per hari adalah 22 sepeda. Penyewaan terendah terjadi pada musim dingin di hari Selasa dengan cuaca hujan deras + butiran es + badai petir + kabut, salju + kabut.\n",
    "<br>- Maximal penyewaan per hari adalah 8714 sepeda. Penyewaan tertinggi terjadi pada musim gugur di hari Sabtu dengan kondisi cuaca cerah, sedikit berawan, atau sebagian berawan.\n",
    "- Penyewaan sepeda cenderung meningkat dari Senin hingga Jumat, dengan puncaknya pada Jumat. Sabtu mengalami sedikit penurunan dibandingkan Jumat, tetapi tetap lebih tinggi dibandingkan hari lainnya. Minggu memiliki jumlah penyewaan terendah, kemungkinan karena aktivitas rutin masyarakat berbeda pada hari libur penuh.\n",
    "- Penyewaan sepeda mulai meningkat signifikan dari bulan Maret (3692), April (4484), hingga mencapai puncaknya pada bulan Juni (5772) dan tetap tinggi hingga September (5766). Bulan Juni menjadi bulan dengan rata-rata penyewaan tertinggi (5772), diikuti oleh September (5766) dan Agustus (5664). Setelah September, jumlah penyewaan mulai menurun drastis, terutama di bulan November (4247) dan Desember (3403).\n",
    "- 1: Musim Semi, 2: Musim Panas, 3: Musim Gugur, 4: Musim Dingin. Musim Semi memiliki penyewaan terendah, sekitar 3000-an. Hal ini mungkin karena cuaca masih dingin atau hujan yang menghambat aktivitas luar ruangan. Musim Panas menunjukkan peningkatan signifikan, dengan rata-rata penyewaan mencapai lebih dari 5000. Ini wajar karena musim panas cenderung lebih nyaman untuk bersepeda. Musim Gugur mencatat penyewaan tertinggi, mendekati 5500. Bisa jadi ini karena suhu masih nyaman dan belum terlalu dingin. Musim Dingin mengalami sedikit penurunan dibandingkan musim gugur, tetapi masih cukup tinggi, sekitar 5000-an. Ini mungkin karena meskipun dingin, orang tetap beraktivitas.\n",
    "- Penyewaan sepeda tertinggi terjadi pada cuaca cerah atau sedikit berawan (kategori 1), dengan rata-rata 4.876 penyewaan per hari.\n",
    "Penyewaan menurun pada cuaca berkabut atau mendung (kategori 2), dengan rata-rata 4.035 penyewaan per hari.\n",
    "Penyewaan sepeda jauh lebih rendah pada cuaca buruk seperti hujan ringan atau salju ringan (kategori 3), dengan rata-rata hanya 1.803 penyewaan per hari."
   ]
  },
  {
   "cell_type": "markdown",
   "id": "66b58f33-757a-4a16-a08a-9f662239f6d9",
   "metadata": {},
   "source": [
    "## Visualization & Explanatory Analysis"
   ]
  },
  {
   "cell_type": "markdown",
   "id": "5ca980c9-1d6c-4184-a27f-1d779fa58afc",
   "metadata": {},
   "source": [
    "### Pertanyaan 1: Bagaimana tren penggunaan sepeda sepanjang tahun?"
   ]
  },
  {
   "cell_type": "code",
   "execution_count": 25,
   "id": "9e747889-6fa6-4b66-bbd6-9339f84ba757",
   "metadata": {},
   "outputs": [
    {
     "data": {
      "image/png": "[encoded data removed]",
      "text/plain": [
       "<Figure size 1000x500 with 1 Axes>"
      ]
     },
     "metadata": {},
     "output_type": "display_data"
    }
   ],
   "source": [
    "# Distribusi penyewaan sepeda per hari\n",
    "plt.figure(figsize=(10, 5))\n",
    "sns.histplot(day_df['cnt'], bins=30, kde=True, color='blue')\n",
    "plt.xlabel(\"Jumlah Penyewaan Sepeda\")\n",
    "plt.ylabel(\"Frekuensi\")\n",
    "plt.title(\"Distribusi Penyewaan Sepeda per Hari\")\n",
    "plt.show()"
   ]
  },
  {
   "cell_type": "code",
   "execution_count": 26,
   "id": "00f116a2-1a7c-413c-b7d3-b4e9ab758e1e",
   "metadata": {},
   "outputs": [
    {
     "data": {
      "image/png": "[encoded data removed]",
      "text/plain": [
       "<Figure size 1000x500 with 1 Axes>"
      ]
     },
     "metadata": {},
     "output_type": "display_data"
    }
   ],
   "source": [
    "# Melihat tren penyewaan sepeda berdasarkan rata-rata penyewaan sepeda per hari dalam setiap bulan pada tahun 2011 dan 2012\n",
    "# Mengelompokkan data berdasarkan tahun dan bulan, lalu menghitung rata-rata harian per bulan\n",
    "monthly_avg = day_df.groupby(['yr', 'mnth'])['cnt'].mean().reset_index()\n",
    "\n",
    "monthly_avg['yr'] = monthly_avg['yr'].map({0: 2011, 1: 2012})\n",
    "\n",
    "# Plot Line Chart\n",
    "plt.figure(figsize=(10, 5))\n",
    "sns.lineplot(x=monthly_avg['mnth'], y=monthly_avg['cnt'], hue=monthly_avg['yr'], marker=\"o\",  palette={2011: \"blue\", 2012: \"orange\"})\n",
    "plt.xticks(ticks=range(1, 13), labels=['Jan', 'Feb', 'Mar', 'Apr', 'Mei', 'Jun', 'Jul', 'Agu', 'Sep', 'Okt', 'Nov', 'Des'])\n",
    "plt.xlabel(\"Bulan\")\n",
    "plt.ylabel(\"Rata-rata Penyewaan Sepeda\")\n",
    "plt.title(\"Tren Rata-rata Penyewaan Sepeda Per Hari dalam Setiap Bulan pada Tahun 2011 & 2012\")\n",
    "plt.legend(title=\"Tahun\")\n",
    "plt.grid(True)\n",
    "\n",
    "plt.show()"
   ]
  },
  {
   "cell_type": "markdown",
   "id": "6cdbcce6-5200-48ad-8a69-11ea7ed509e1",
   "metadata": {},
   "source": [
    "**Insight:**\n",
    "\n",
    "Tren penggunaan sepeda sepanjang tahun\n",
    "- Histogram menunjukkan distribusi jumlah penyewaan sepeda per hari. Pola distribusi ini tampak bimodal, dengan dua puncak utama di sekitar 4.000–5.000 dan 6.000–7.000 penyewaan per hari. Artinya, sebagian besar hari memiliki jumlah penyewaan dalam kisaran ini, tetapi ada juga beberapa hari dengan jumlah penyewaan sangat tinggi (mendekati 8.000–9.000) dan beberapa dengan penyewaan rendah (di bawah 2.000).\n",
    "- Penggunaan sepeda mengalami tren naik mulai awal tahun, mencapai puncaknya pada pertengahan tahun (Juni–September), kemudian turun kembali menjelang akhir tahun. Hal ini kemungkinan besar dipengaruhi oleh kondisi cuaca. Musim panas dan gugur yang lebih hangat serta nyaman mendukung aktivitas bersepeda, sementara musim semi dan dingin, yang cenderung lebih dingin atau tidak menentu, membuat orang cenderung mengurangi penggunaan sepeda.\n",
    "- Rata-rata penyewaan pada tahun 2012 lebih tinggi dibandingkan tahun 2011 di hampir semua bulan, menunjukkan peningkatan tren penggunaan sepeda dari tahun ke tahun. Ini menunjukkan pertumbuhan jumlah pengguna atau meningkatnya kepercayaan terhadap layanan penyewaan sepeda."
   ]
  },
  {
   "cell_type": "markdown",
   "id": "556ee150-c06c-493c-b436-372a3069185c",
   "metadata": {},
   "source": [
    "### Pertanyaan 2: Kapan periode dengan rata-rata penyewaan tertinggi dan terendah?"
   ]
  },
  {
   "cell_type": "code",
   "execution_count": 38,
   "id": "57051e6f-f1ff-4d41-b285-ff2ef9c0942f",
   "metadata": {},
   "outputs": [
    {
     "data": {
      "image/png": "[encoded data removed]",
      "text/plain": [
       "<Figure size 1500x500 with 3 Axes>"
      ]
     },
     "metadata": {},
     "output_type": "display_data"
    }
   ],
   "source": [
    "# Melihat periode penyewaan sepeda terendah dan tertinggi berdasarkan hari, bulan, dan musim \n",
    "# Mapping nama bulan, musim, dan hari sesuai keterangan dataset\n",
    "bulan_mapping = {\n",
    "    1: \"Jan\", 2: \"Feb\", 3: \"Mar\", 4: \"Apr\", 5: \"Mei\", 6: \"Jun\",\n",
    "    7: \"Jul\", 8: \"Agu\", 9: \"Sep\", 10: \"Okt\", 11: \"Nov\", 12: \"Des\"\n",
    "}\n",
    "\n",
    "musim_mapping = {\n",
    "    1: \"Semi\", 2: \"Panas\", 3: \"Gugur\", 4: \"Dingin\" \n",
    "}\n",
    "\n",
    "hari_mapping = {\n",
    "    0: \"Minggu\", 1: \"Senin\", 2: \"Selasa\", 3: \"Rabu\", \n",
    "    4: \"Kamis\", 5: \"Jumat\", 6: \"Sabtu\"\n",
    "}\n",
    "\n",
    "# Hitung rata-rata penyewaan berdasarkan bulan, hari, dan musim\n",
    "avg_by_month = day_df.groupby(\"mnth\")[\"cnt\"].mean().reindex(range(1, 13))  \n",
    "avg_by_weekday = day_df.groupby(\"weekday\")[\"cnt\"].mean().reindex(range(0, 7))\n",
    "avg_by_season = day_df.groupby(\"season\")[\"cnt\"].mean().reindex(range(1, 5))\n",
    "\n",
    "# Set ukuran figure\n",
    "plt.figure(figsize=(15, 5))\n",
    "\n",
    "# Subplot 1: Penyewaan per hari dalam seminggu\n",
    "plt.subplot(1, 3, 1)\n",
    "sns.barplot(x=[hari_mapping[i] for i in avg_by_weekday.index], y=avg_by_weekday.values, hue=[hari_mapping[i] for i in avg_by_weekday.index], palette=\"magma\", legend=False)\n",
    "plt.xticks(rotation=45)\n",
    "plt.xlabel(\"Hari\")\n",
    "plt.ylabel(\"Rata-rata Penyewaan Sepeda\")\n",
    "plt.title(\"Rata-rata Penyewaan Sepeda per Hari\")\n",
    "\n",
    "# Subplot 2: Penyewaan per bulan\n",
    "plt.subplot(1, 3, 2)\n",
    "sns.barplot(x=[bulan_mapping[i] for i in avg_by_month.index], y=avg_by_month.values, hue=[bulan_mapping[i] for i in avg_by_month.index], palette=\"viridis\", legend=False)\n",
    "plt.xticks(rotation=45)\n",
    "plt.xlabel(\"Bulan\")\n",
    "plt.ylabel(\"Rata-rata Penyewaan Sepeda\")\n",
    "plt.title(\"Rata-rata Penyewaan Sepeda per Bulan\")\n",
    "\n",
    "# Subplot 3: Penyewaan per musim\n",
    "plt.subplot(1, 3, 3)\n",
    "sns.barplot(x=[musim_mapping[i] for i in avg_by_season.index], y=avg_by_season.values, hue=[musim_mapping[i] for i in avg_by_season.index], palette=\"coolwarm\", legend=False)\n",
    "plt.xlabel(\"Musim\")\n",
    "plt.ylabel(\"Rata-rata Penyewaan Sepeda\")\n",
    "plt.title(\"Rata-rata Penyewaan Sepeda per Musim\")\n",
    "\n",
    "# Atur layout agar tidak saling tumpang tindih\n",
    "plt.tight_layout()\n",
    "\n",
    "# Tampilkan grafik\n",
    "plt.show()"
   ]
  },
  {
   "cell_type": "markdown",
   "id": "eeaecd4a-3650-4a49-ad89-f1e159cf7bc9",
   "metadata": {},
   "source": [
    "**Insight:**\n",
    "\n",
    "Periode dengan jumlah penyewaan tertinggi dan terendah\n",
    "- Berdasarkan hari dalam seminggu\n",
    "  <br>Rata-rata penyewaan sepeda cenderung meningkat dari Senin hingga Sabtu, dengan puncaknya pada Jumat. Sedangkan rata-rata penyewaan terendah ada pada hari Minggu, kemungkinan karena lebih banyak orang beristirahat atau memiliki aktivitas lain yang mengurangi kebutuhan bersepeda.\n",
    "- Berdasarkan bulan\n",
    "  <br>Rata-rata penyewaan meningkat dari Januari hingga mencapai puncaknya pada bulan Juni hingga September. Penurunan signifikan terjadi mulai Oktober hingga Desember. Juni dan September menjadi bulan dengan rata-rata penyewaan tertinggi, sedangkan Januari memiliki rata-rata penyewaan terendah.\n",
    "- Berdasarkan musim\n",
    "  <br>Musim Gugur memiliki jumlah penyewaan tertinggi, diikuti oleh Musim Panas. Hal ini masuk akal karena cuaca pada musim ini umumnya lebih kondusif untuk bersepeda. Musim Semi memiliki jumlah penyewaan lebih rendah dibandingkan musim panas dan gugur, kemungkinan karena cuaca yang masih cenderung tidak stabil. Musim Dingin memiliki jumlah penyewaan terendah, yang dapat disebabkan oleh suhu dingin dan kondisi cuaca yang kurang mendukung aktivitas bersepeda."
   ]
  },
  {
   "cell_type": "markdown",
   "id": "39623dd7-2c1c-4fb2-8a50-d74ff34419e1",
   "metadata": {},
   "source": [
    "### Pertanyaan 3: Bagaimana pengaruh kondisi cuaca terhadap pola penyewaan sepeda?"
   ]
  },
  {
   "cell_type": "code",
   "execution_count": 39,
   "id": "8cda5f16-4abb-41d4-a1c9-22a02e9e2042",
   "metadata": {},
   "outputs": [
    {
     "data": {
      "image/png": "[encoded data removed]",
      "text/plain": [
       "<Figure size 800x500 with 1 Axes>"
      ]
     },
     "metadata": {},
     "output_type": "display_data"
    }
   ],
   "source": [
    "# Rata-rata penyewaan sepeda pada setiap kondisi cuaca\n",
    "weather_labels = {1: \"Cerah\", 2: \"Berawan & Berkabut\", 3: \"Salju/Hujan Ringan\"}\n",
    "weather_avg = day_df.groupby(\"weathersit\")[\"cnt\"].mean().reset_index()\n",
    "\n",
    "# Ganti angka dengan nama musim\n",
    "weather_avg[\"weathersit\"] = weather_avg[\"weathersit\"].replace(weather_labels)\n",
    "\n",
    "plt.figure(figsize=(8, 5))\n",
    "sns.barplot(x='weathersit', y='cnt', hue='weathersit', data=weather_avg, palette='viridis', legend=False)\n",
    "plt.xlabel(\"Kondisi Cuaca\")\n",
    "plt.ylabel(\"Rata-rata Penyewaan Sepeda\")\n",
    "plt.title(\"Rata-rata Penyewaan Sepeda pada Setiap Cuaca\")\n",
    "plt.show()"
   ]
  },
  {
   "cell_type": "markdown",
   "id": "1720c046-3ca8-4ff5-87a3-73bcf4d95c73",
   "metadata": {},
   "source": [
    "**Insight:**\n",
    "- Rata-rata penyewaan sepeda tertinggi terjadi ketika cuaca cerah, sedikit berawan, atau sebagian berawan. Cuaca yang baik mendorong lebih banyak orang untuk beraktivitas di luar ruangan, termasuk bersepeda. Tidak ada hambatan seperti hujan atau jalanan licin yang bisa mengurangi kenyamanan dan keamanan pengguna sepeda. Kondisi ini ideal untuk pengguna sepeda rekreasi maupun orang yang mengandalkan sepeda sebagai transportasi sehari-hari.\n",
    "- Rata-rata penyewaan sepeda terendah terjadi ketika cuaca hujan/salju ringan. Hujan atau salju membuat kondisi jalan lebih berbahaya dan licin, sehingga orang lebih memilih alternatif transportasi lain. Bersepeda saat hujan tidak nyaman, terutama bagi pengguna yang tidak memiliki perlengkapan tahan air. Cuaca buruk sering kali membuat orang mengurangi aktivitas luar ruangan secara keseluruhan.\n",
    "- Sementara penyewaan sepeda ketika cuaca berkabut/berawan masih cukup tinggi. Kabut atau awan tidak selalu mengganggu aktivitas bersepeda, terutama jika tidak disertai hujan. Pengguna sepeda tetap menggunakan sepeda untuk mobilitas sehari-hari meskipun cuaca tidak sepenuhnya cerah. Kondisi berkabut atau berawan bisa lebih nyaman dibandingkan cuaca panas terik, sehingga beberapa pengguna justru tetap aktif."
   ]
  },
  {
   "cell_type": "markdown",
   "id": "5bf46896-abb8-4bad-a3e3-cf93ec243e04",
   "metadata": {},
   "source": [
    "## Conclusion"
   ]
  },
  {
   "cell_type": "markdown",
   "id": "ad6a28fd-7069-4b31-bd52-eaf4baeac07b",
   "metadata": {},
   "source": [
    "- Conclution pertanyaan 1\n",
    "  <br>Penggunaan sepeda menunjukkan tren musiman yang jelas, dengan peningkatan yang stabil sejak awal tahun, mencapai puncaknya pada pertengahan tahun (Juni–September), lalu menurun menjelang akhir tahun. Faktor cuaca menjadi salah satu penyebab utama tren ini, di mana musim panas dan gugur yang lebih hangat mendukung aktivitas bersepeda, sementara musim dingin dan awal musim semi yang lebih dingin menyebabkan penurunan penggunaan. Selain itu, tren tahunan menunjukkan peningkatan jumlah penyewaan dari tahun ke tahun, mencerminkan pertumbuhan minat terhadap layanan penyewaan sepeda.\n",
    "  \n",
    "- Conclution pertanyaan 2\n",
    "  <br>- Berdasarkan hari dalam seminggu, penyewaan sepeda tertinggi terjadi pada hari Jumat, sedangkan hari Minggu memiliki penyewaan terendah.\n",
    "  <br>- Berdasarkan bulan, bulan Juli dan September mencatat rata-rata penyewaan tertinggi, sementara Januari memiliki penyewaan terendah.\n",
    "  <br>- Berdasarkan musim, musim gugur memiliki jumlah penyewaan tertinggi, diikuti oleh musim panas. Sebaliknya, musim dingin memiliki jumlah penyewaan terendah akibat kondisi cuaca yang kurang mendukung.\n",
    "\n",
    "  Secara keseluruhan, periode dengan penyewaan tertinggi adalah saat Musim Gugur, terutama dari bulan Juni hingga September, dengan puncaknya pada Juli-Agustus. Sedangkan periode dengan penyewaan terendah adalah saat Musim Dingin, khususnya pada bulan Desember dan Januari.\n",
    "\n",
    "- Conclution pertanyaan 3\n",
    "  <br>Penyewaan sepeda mencapai angka tertinggi saat cuaca cerah, sedikit berawan, atau sebagian berawan karena kondisi ini mendukung kenyamanan dan keamanan dalam bersepeda. Sementara itu, penyewaan menurun drastis saat cuaca hujan atau salju karena faktor keamanan dan kenyamanan yang berkurang. Cuaca berkabut atau berawan masih memungkinkan tingkat penyewaan yang cukup tinggi, selama tidak ada hujan yang mengganggu aktivitas bersepeda.\n",
    "  <br>Hal ini menunjukkan bahwa semakin baik cuaca, maka semakin tinggi jumlah penyewaan sepeda. Cuaca yang cerah dan stabil menciptakan kondisi yang nyaman dan aman bagi pengguna, sehingga mereka lebih cenderung menggunakan sepeda baik untuk keperluan transportasi maupun rekreasi. Sebaliknya, cuaca buruk seperti hujan atau salju mengurangi kenyamanan dan meningkatkan risiko, sehingga jumlah penyewaan menurun secara signifikan."
   ]
  },
  {
   "cell_type": "code",
   "execution_count": 58,
   "id": "43381dcf-d3f9-429d-99ef-ff4ca87e1a4c",
   "metadata": {},
   "outputs": [],
   "source": [
    "day_df.to_csv(\"main_data.csv\", index=False)"
   ]
  }
 ],
 "metadata": {
  "kernelspec": {
   "display_name": "Python 3 (ipykernel)",
   "language": "python",
   "name": "python3"
  },
  "language_info": {
   "codemirror_mode": {
    "name": "ipython",
    "version": 3
   },
   "file_extension": ".py",
   "mimetype": "text/x-python",
   "name": "python",
   "nbconvert_exporter": "python",
   "pygments_lexer": "ipython3",
   "version": "3.10.6"
  }
 },
 "nbformat": 4,
 "nbformat_minor": 5
}
